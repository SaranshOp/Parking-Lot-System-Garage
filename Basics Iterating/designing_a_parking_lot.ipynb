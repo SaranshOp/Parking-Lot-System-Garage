{
 "cells": [
  {
   "cell_type": "markdown",
   "metadata": {},
   "source": [
    "This is perplexity code that i will be editing and using first of all.  \n",
    "Basic code and Functionality     \n",
    "Let's First test the code and see how it works. \n",
    "\n"
   ]
  },
  {
   "cell_type": "code",
   "execution_count": 37,
   "metadata": {},
   "outputs": [],
   "source": [
    "import threading\n",
    "\n",
    "class Vehicle:\n",
    "    def __init__(self, license_plate, vehicle_type):\n",
    "        self.license_plate = license_plate\n",
    "        self.vehicle_type = vehicle_type\n",
    "\n",
    "class ParkingSpot:\n",
    "    def __init__(self, spot_id):\n",
    "        self.spot_id = spot_id\n",
    "        self.is_occupied = False\n",
    "        self.vehicle = None\n",
    "\n",
    "class Floor:\n",
    "    def __init__(self, floor_id, spots):\n",
    "        self.floor_id = floor_id\n",
    "        self.spots = [ParkingSpot(i) for i in range(spots)]"
   ]
  },
  {
   "cell_type": "code",
   "execution_count": 38,
   "metadata": {},
   "outputs": [],
   "source": [
    "class ParkingLot:\n",
    "    def __init__(self, num_floors, spots_per_floor):\n",
    "        self.num_floors = num_floors\n",
    "        self.spots_per_floor = spots_per_floor\n",
    "        self.floors = [Floor(i, spots_per_floor) for i in range(num_floors)]\n",
    "        self.vehicle_locations = {}\n",
    "        self.lock = threading.Lock()\n",
    "\n",
    "    def park_vehicle(self, license_plate, vehicle_type):\n",
    "        with self.lock:\n",
    "            # Find nearest available spot(s) based on vehicle type\n",
    "            for floor in self.floors:\n",
    "                for spot in floor.spots:\n",
    "                    if not spot.is_occupied:\n",
    "                        if vehicle_type == \"Truck\":\n",
    "                            # Check for two consecutive spots\n",
    "                            if spot.spot_id < len(floor.spots) - 1 and not floor.spots[spot.spot_id + 1].is_occupied:\n",
    "                                spot.is_occupied = True\n",
    "                                floor.spots[spot.spot_id + 1].is_occupied = True\n",
    "                                vehicle = Vehicle(license_plate, vehicle_type)\n",
    "                                spot.vehicle = vehicle\n",
    "                                floor.spots[spot.spot_id + 1].vehicle = vehicle\n",
    "                                self.vehicle_locations[license_plate] = (floor.floor_id, spot.spot_id)\n",
    "                                return f\"Truck {license_plate} parked at Floor {floor.floor_id}, Spot {spot.spot_id} and {spot.spot_id + 1}\"\n",
    "                        else:\n",
    "                            spot.is_occupied = True\n",
    "                            vehicle = Vehicle(license_plate, vehicle_type)\n",
    "                            spot.vehicle = vehicle\n",
    "                            self.vehicle_locations[license_plate] = (floor.floor_id, spot.spot_id)\n",
    "                            return f\"{vehicle_type} {license_plate} parked at Floor {floor.floor_id}, Spot {spot.spot_id}\"\n",
    "            return \"Parking lot is full.\"\n",
    "\n",
    "    def leave_vehicle(self, license_plate):\n",
    "        with self.lock:\n",
    "            if license_plate in self.vehicle_locations:\n",
    "                floor_id, spot_id = self.vehicle_locations[license_plate]\n",
    "                floor = self.floors[floor_id]\n",
    "                spot = floor.spots[spot_id]\n",
    "                spot.is_occupied = False\n",
    "                # print(\"spot_id\", spot_id)\n",
    "\n",
    "                Vehicle = spot.vehicle.vehicle_type\n",
    "                if spot.vehicle.vehicle_type == \"Truck\":\n",
    "                    floor.spots[spot_id + 1].is_occupied = False\n",
    "                    floor.spots[spot_id + 1].vehicle = None\n",
    "                spot.vehicle = None\n",
    "                del self.vehicle_locations[license_plate]\n",
    "                return f\"{Vehicle} {license_plate} has left.\"\n",
    "            else:\n",
    "                return f\"Vehicle {license_plate} not found.\""
   ]
  },
  {
   "cell_type": "code",
   "execution_count": 39,
   "metadata": {},
   "outputs": [],
   "source": [
    "def all_vehicle_locations(parking_lot):\n",
    "    return parking_lot.vehicle_locations"
   ]
  },
  {
   "cell_type": "code",
   "execution_count": 40,
   "metadata": {},
   "outputs": [],
   "source": [
    "parking_lot = ParkingLot(num_floors=3, spots_per_floor=10)"
   ]
  },
  {
   "cell_type": "code",
   "execution_count": 41,
   "metadata": {},
   "outputs": [
    {
     "name": "stdout",
     "output_type": "stream",
     "text": [
      "Car KA-01-1234 parked at Floor 0, Spot 0\n",
      "Truck KA-01-2345 parked at Floor 0, Spot 1 and 2\n",
      "Car KA-01-4012 parked at Floor 0, Spot 3\n"
     ]
    }
   ],
   "source": [
    "print(parking_lot.park_vehicle(\"KA-01-1234\", \"Car\"))\n",
    "print(parking_lot.park_vehicle(\"KA-01-2345\", \"Truck\"))\n",
    "print(parking_lot.park_vehicle(\"KA-01-4012\", \"Car\"))"
   ]
  },
  {
   "cell_type": "code",
   "execution_count": null,
   "metadata": {},
   "outputs": [
    {
     "name": "stdout",
     "output_type": "stream",
     "text": [
      "Car KA-01-1234 has left.\n"
     ]
    },
    {
     "data": {
      "text/plain": [
       "{'KA-01-2345': (0, 1), 'KA-01-4012': (0, 3)}"
      ]
     },
     "execution_count": 42,
     "metadata": {},
     "output_type": "execute_result"
    }
   ],
   "source": [
    "print(parking_lot.leave_vehicle(\"KA-01-1234\"))\n",
    "all_vehicle_locations(parking_lot)"
   ]
  },
  {
   "cell_type": "code",
   "execution_count": null,
   "metadata": {},
   "outputs": [],
   "source": []
  },
  {
   "cell_type": "code",
   "execution_count": null,
   "metadata": {},
   "outputs": [],
   "source": []
  }
 ],
 "metadata": {
  "kernelspec": {
   "display_name": ".venv",
   "language": "python",
   "name": "python3"
  },
  "language_info": {
   "codemirror_mode": {
    "name": "ipython",
    "version": 3
   },
   "file_extension": ".py",
   "mimetype": "text/x-python",
   "name": "python",
   "nbconvert_exporter": "python",
   "pygments_lexer": "ipython3",
   "version": "3.12.3"
  }
 },
 "nbformat": 4,
 "nbformat_minor": 2
}
